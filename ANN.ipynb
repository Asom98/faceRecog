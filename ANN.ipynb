{
 "cells": [
  {
   "cell_type": "code",
   "metadata": {
    "ExecuteTime": {
     "end_time": "2025-01-10T19:11:35.253848Z",
     "start_time": "2025-01-10T19:08:04.150499Z"
    }
   },
   "source": [
    "from sklearn.model_selection import train_test_split\n",
    "from sklearn.preprocessing import LabelEncoder, StandardScaler\n",
    "from sklearn.decomposition import PCA\n",
    "from skimage.feature import hog\n",
    "from data_loading import load_data\n",
    "from ANN import ANN\n",
    "\n",
    "# Correct paths to your dataset\n",
    "csv_file = r\"./archive/data.csv\"\n",
    "base_folder = r\"./archive/dataset\"\n",
    "\n",
    "# Load images and labels\n",
    "X, y = load_data(csv_file, base_folder)\n",
    "\n",
    "### Feature Engineering (same as before) ###\n",
    "def rgb_to_grayscale(images):\n",
    "    return np.dot(images[..., :3], [0.2989, 0.5870, 0.1140])\n",
    "\n",
    "def extract_hog_features(images):\n",
    "    hog_features = []\n",
    "    for img in images:\n",
    "        features = hog(img, pixels_per_cell=(8, 8), cells_per_block=(2, 2), feature_vector=True)\n",
    "        hog_features.append(features)\n",
    "    return np.array(hog_features)\n",
    "\n",
    "def apply_pca(features, n_components=100):\n",
    "    pca = PCA(n_components=n_components)\n",
    "    return pca.fit_transform(features)\n",
    "\n",
    "def normalize_features(features):\n",
    "    scaler = StandardScaler()\n",
    "    return scaler.fit_transform(features)\n",
    "\n",
    "import numpy as np\n",
    "\n",
    "def one_hot_encode(labels, num_classes):\n",
    "    one_hot = np.zeros((labels.size, num_classes))  # Initialize a zero matrix\n",
    "    one_hot[np.arange(labels.size), labels] = 1     # Set the appropriate indices to 1\n",
    "    return one_hot\n",
    "\n",
    "\n",
    "# Preprocess features\n",
    "X_gray = rgb_to_grayscale(X)\n",
    "X_hog = extract_hog_features(X_gray)\n",
    "X_pca = apply_pca(X_hog, n_components=100)\n",
    "X_normalized = normalize_features(X_pca)\n",
    "\n",
    "# Encode labels\n",
    "le = LabelEncoder()\n",
    "y_encoded = le.fit_transform(y)\n",
    "\n",
    "# One-hot encode labels for ANN\n",
    "y_one_hot = one_hot_encode(y_encoded, 5)\n",
    "\n",
    "# Train/test split\n",
    "X_train, X_test, y_train, y_test = train_test_split(X_normalized, y_one_hot, test_size=0.2, random_state=42)\n",
    "\n",
    "### Train ANN Model ###\n",
    "input_size = X_normalized.shape[1]\n",
    "hidden_size = 128\n",
    "output_size = y_one_hot.shape[1]\n",
    "\n",
    "ann_model = ANN(input_size, hidden_size, output_size, learning_rate=0.01, epochs=1000)\n",
    "ann_model.train(X_train, y_train)\n",
    "\n",
    "### Test ANN Model ###\n",
    "y_test_pred = ann_model.predict(X_test)\n",
    "test_accuracy = np.mean(np.argmax(y_test, axis=1) == y_test_pred)\n",
    "print(f\"Test Accuracy: {test_accuracy}\")"
   ],
   "outputs": [
    {
     "name": "stdout",
     "output_type": "stream",
     "text": [
      "Epoch 0, Loss: 1.6095457621232012\n",
      "Epoch 100, Loss: 1.569401007308989\n",
      "Epoch 200, Loss: 1.543104643972626\n",
      "Epoch 300, Loss: 1.524851275839507\n",
      "Epoch 400, Loss: 1.5111859822266227\n",
      "Epoch 500, Loss: 1.4998685216766516\n",
      "Epoch 600, Loss: 1.489247860544665\n",
      "Epoch 700, Loss: 1.4779029012864973\n",
      "Epoch 800, Loss: 1.464381025672931\n",
      "Epoch 900, Loss: 1.4470515028775779\n",
      "Test Accuracy: 0.5347368421052632\n"
     ]
    }
   ],
   "execution_count": 1
  },
  {
   "cell_type": "code",
   "metadata": {
    "ExecuteTime": {
     "end_time": "2025-01-10T19:38:24.018063Z",
     "start_time": "2025-01-10T19:37:47.803268Z"
    }
   },
   "source": [
    "### Train ANN Model ###\n",
    "input_size = X_normalized.shape[1]\n",
    "hidden_size = 128\n",
    "output_size = y_one_hot.shape[1]\n",
    "\n",
    "ann_model = ANN(input_size, hidden_size, output_size, learning_rate=0.2, epochs=1000)\n",
    "ann_model.train(X_train, y_train)\n",
    "\n",
    "### Test ANN Model ###\n",
    "y_test_pred = ann_model.predict(X_test)\n",
    "test_accuracy = np.mean(np.argmax(y_test, axis=1) == y_test_pred)\n",
    "print(f\"Test Accuracy: {test_accuracy}\")"
   ],
   "outputs": [
    {
     "name": "stdout",
     "output_type": "stream",
     "text": [
      "Epoch 0, Loss: 1.6095457621232012\n",
      "Epoch 100, Loss: 1.1344225703198134\n",
      "Epoch 200, Loss: 0.9550860878961374\n",
      "Epoch 300, Loss: 0.8798689558934963\n",
      "Epoch 400, Loss: 0.830140777862259\n",
      "Epoch 500, Loss: 0.7788684558888957\n",
      "Epoch 600, Loss: 0.7271093080836774\n",
      "Epoch 700, Loss: 0.6758641456750776\n",
      "Epoch 800, Loss: 0.6260753033956059\n",
      "Epoch 900, Loss: 0.5787972792962862\n",
      "Test Accuracy: 0.6456140350877193\n"
     ]
    }
   ],
   "execution_count": 2
  }
 ],
 "metadata": {
  "kernelspec": {
   "display_name": "base",
   "language": "python",
   "name": "python3"
  },
  "language_info": {
   "codemirror_mode": {
    "name": "ipython",
    "version": 3
   },
   "file_extension": ".py",
   "mimetype": "text/x-python",
   "name": "python",
   "nbconvert_exporter": "python",
   "pygments_lexer": "ipython3",
   "version": "3.12.4"
  }
 },
 "nbformat": 4,
 "nbformat_minor": 2
}
