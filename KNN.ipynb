{
 "cells": [
  {
   "cell_type": "code",
   "execution_count": null,
   "metadata": {},
   "outputs": [],
   "source": [
    "import numpy as np\n",
    "from data_loading import load_data\n",
    "from KNN import KNN, cross_validate_knn\n",
    "from skimage.feature import hog\n",
    "from sklearn.decomposition import PCA\n",
    "from sklearn.preprocessing import StandardScaler, LabelEncoder\n",
    "from sklearn.model_selection import train_test_split, KFold\n",
    "\n",
    "# Correct paths to your dataset\n",
    "csv_file = r\"./archive/data.csv\"\n",
    "base_folder = r\"./archive/dataset\"\n",
    "\n",
    "# Load images and labels\n",
    "X, y = load_data(csv_file, base_folder)\n",
    "\n",
    "### Feature Engineering ###\n",
    "\n",
    "# Step 1: Convert RGB images to grayscale\n",
    "def rgb_to_grayscale(images):\n",
    "    return np.dot(images[..., :3], [0.2989, 0.5870, 0.1140])\n",
    "\n",
    "X_gray = rgb_to_grayscale(X)\n",
    "\n",
    "# Step 2: Extract HOG features\n",
    "def extract_hog_features(images):\n",
    "    hog_features = []\n",
    "    for img in images:\n",
    "        features = hog(img, pixels_per_cell=(8, 8), cells_per_block=(2, 2), feature_vector=True)\n",
    "        hog_features.append(features)\n",
    "    return np.array(hog_features)\n",
    "\n",
    "X_hog = extract_hog_features(X_gray)\n",
    "\n",
    "# Step 3: Apply PCA for dimensionality reduction\n",
    "def apply_pca(features, n_components=100):\n",
    "    pca = PCA(n_components=n_components)\n",
    "    return pca.fit_transform(features)\n",
    "\n",
    "X_pca = apply_pca(X_hog, n_components=100)\n",
    "\n",
    "# Step 4: Normalize the features\n",
    "def normalize_features(features):\n",
    "    scaler = StandardScaler()\n",
    "    return scaler.fit_transform(features)\n",
    "\n",
    "X_normalized = normalize_features(X_pca)\n",
    "\n",
    "### Prepare labels ###\n",
    "# Encode labels to numerical values\n",
    "le = LabelEncoder()\n",
    "y_encoded = le.fit_transform(y)\n",
    "\n",
    "# Split into training, validation, and test sets\n",
    "X_train_full, X_test, y_train_full, y_test = train_test_split(X_normalized, y_encoded, test_size=0.2, random_state=42)\n",
    "X_train, X_val, y_train, y_val = train_test_split(X_train_full, y_train_full, test_size=0.2, random_state=42)\n",
    "\n",
    "\n"
   ]
  },
  {
   "cell_type": "code",
   "execution_count": null,
   "metadata": {},
   "outputs": [
    {
     "name": "stdout",
     "output_type": "stream",
     "text": [
      "Final Test Accuracy: 0.5371929824561403\n"
     ]
    }
   ],
   "source": [
    "# Perform cross-validation with k=5 and 5 folds\n",
    "#cross_validation_accuracy = cross_validate_knn(X_normalized, y_encoded, k=5, num_folds=5)\n",
    "\n",
    "### Final Model Training and Testing ###\n",
    "\n",
    "# Train the final k-NN model on the full training set\n",
    "final_knn = KNN(k=5)\n",
    "final_knn.fit(X_train_full, y_train_full)\n",
    "\n",
    "# Test the final model\n",
    "y_test_pred = final_knn.predict(X_test)\n",
    "final_accuracy = np.mean(y_test == y_test_pred)\n",
    "print(f\"Final Test Accuracy: {final_accuracy}\")"
   ]
  }
 ],
 "metadata": {
  "kernelspec": {
   "display_name": "base",
   "language": "python",
   "name": "python3"
  },
  "language_info": {
   "codemirror_mode": {
    "name": "ipython",
    "version": 3
   },
   "file_extension": ".py",
   "mimetype": "text/x-python",
   "name": "python",
   "nbconvert_exporter": "python",
   "pygments_lexer": "ipython3",
   "version": "3.12.4"
  }
 },
 "nbformat": 4,
 "nbformat_minor": 2
}
