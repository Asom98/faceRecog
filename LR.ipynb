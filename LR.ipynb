{
 "cells": [
  {
   "metadata": {},
   "cell_type": "code",
   "source": [
    "from image_util import resize_and_save\n",
    "\n",
    "# Correct paths to your dataset\n",
    "csv_file = r\"./archive/data.csv\"\n",
    "base_folder = r\"./archive/dataset\"\n",
    "target_folder = r\"./archive/resized\"\n",
    "\n",
    "# resize images\n",
    "resize_and_save(csv_file, base_folder, target_folder)\n"
   ],
   "outputs": [],
   "execution_count": null
  },
  {
   "metadata": {},
   "cell_type": "code",
   "outputs": [],
   "execution_count": null,
   "source": [
    "from image_util import load_and_normalize, to_grayscale, to_histgram, to_pca, to_norm\n",
    "import datetime\n",
    "from sklearn.preprocessing import LabelEncoder\n",
    "from sklearn.model_selection import train_test_split\n",
    "import numpy as np\n",
    "\n",
    "# Correct paths to your dataset\n",
    "csv_file = r\"./archive/data.csv\"\n",
    "base_folder = r\"./archive/resized\"\n",
    "\n",
    "start_time = datetime.datetime.now()\n",
    "print(f\"Start Time {start_time}\")\n",
    "\n",
    "# load and normalize images\n",
    "images, labels = load_and_normalize(csv_file, base_folder)\n",
    "normalize_time = datetime.datetime.now()\n",
    "print(f\"loading time: {normalize_time - start_time}\")\n",
    "\n",
    "# Step 1 - GRAYSCALE\n",
    "grayscale_images = to_grayscale(images)\n",
    "grayscale_time = datetime.datetime.now()\n",
    "print(f\"grayscale time: {grayscale_time - normalize_time}\")\n",
    "\n",
    "# Step 2 - HISTGRAM\n",
    "histgram_images = to_histgram(grayscale_images)\n",
    "histgram_time = datetime.datetime.now()\n",
    "print(f\"histogram time: {histgram_time - grayscale_time}\")\n",
    "\n",
    "# Step 3 - PCA\n",
    "pca_images = to_pca(histgram_images)\n",
    "pca_time = datetime.datetime.now()\n",
    "print(f\"pca time: {pca_time - histgram_time}\")\n",
    "\n",
    "# Step 4 - Normalization\n",
    "norm_images = to_norm(pca_images)\n",
    "norm_time = datetime.datetime.now()\n",
    "print(f\"norm time: {norm_time - pca_time}\")\n",
    "\n",
    "# Step 5 - Encode labels to numerical values\n",
    "le = LabelEncoder()\n",
    "labels_encoded = le.fit_transform(labels)\n",
    "# One-hot encode the labels for softmax regression\n",
    "labels_one_hot = np.eye(len(np.unique(labels_encoded)))[labels_encoded]\n",
    "one_hot_time = datetime.datetime.now()\n",
    "print(f\"label Encoding time: {one_hot_time - one_hot_time}\")\n",
    "\n",
    "# Step 6 - # Split into training, validation, and test sets\n",
    "images_train_full, images_test, labels_train_full, labels_test = train_test_split(norm_images, labels_one_hot, test_size=0.2, random_state=42)\n",
    "images_train, images_val, labels_train, labels_val = train_test_split(images_train_full, labels_train_full, test_size=0.2, random_state=42)\n",
    "print(f\"split dataset time: {labels_one_hot}\")\n",
    "\n",
    "\n",
    "end_time = datetime.datetime.now()\n",
    "print(f\"End Time: {end_time}\")\n",
    "print(f\"Total Duration: {end_time - start_time}\")\n"
   ]
  },
  {
   "metadata": {},
   "cell_type": "code",
   "source": "",
   "outputs": [],
   "execution_count": null
  }
 ],
 "metadata": {
  "kernelspec": {
   "display_name": "base",
   "language": "python",
   "name": "python3"
  },
  "language_info": {
   "codemirror_mode": {
    "name": "ipython",
    "version": 3
   },
   "file_extension": ".py",
   "mimetype": "text/x-python",
   "name": "python",
   "nbconvert_exporter": "python",
   "pygments_lexer": "ipython3",
   "version": "3.12.4"
  }
 },
 "nbformat": 4,
 "nbformat_minor": 2
}
