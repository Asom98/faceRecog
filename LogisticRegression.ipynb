{
 "cells": [
  {
   "cell_type": "code",
   "metadata": {
    "ExecuteTime": {
     "end_time": "2024-10-12T18:36:02.384594Z",
     "start_time": "2024-10-12T18:35:56.148974Z"
    }
   },
   "source": [
    "import numpy as np\n",
    "from data_loading import load_data\n",
    "from logistic_regression import LogisticRegression\n",
    "from skimage.feature import hog\n",
    "from sklearn.decomposition import PCA\n",
    "from sklearn.preprocessing import StandardScaler\n",
    "from sklearn.model_selection import train_test_split\n",
    "from sklearn.preprocessing import LabelEncoder\n",
    "from sklearn.model_selection import KFold\n",
    "\n",
    "\n",
    "# Correct paths to your dataset\n",
    "csv_file = r\"./archive/data.csv\"\n",
    "base_folder = r\"./archive/dataset\"\n",
    "\n",
    "# Load images and labels\n",
    "X, y = load_data(csv_file, base_folder)\n",
    "\n",
    "\n",
    "### Feature Engineering ###\n",
    "# Step 1: Convert RGB images to grayscale\n",
    "def rgb_to_grayscale(images):\n",
    "    return np.dot(images[..., :3], [0.2989, 0.5870, 0.1140])\n",
    "\n",
    "\n",
    "X_gray = rgb_to_grayscale(X)\n",
    "\n",
    "\n",
    "# Step 2: Extract HOG features\n",
    "def extract_hog_features(images):\n",
    "    hog_features = []\n",
    "    for img in images:\n",
    "        features = hog(img, pixels_per_cell=(8, 8), cells_per_block=(2, 2), feature_vector=True)\n",
    "        hog_features.append(features)\n",
    "    return np.array(hog_features)\n",
    "\n",
    "\n",
    "X_hog = extract_hog_features(X_gray)\n",
    "\n",
    "\n",
    "# Step 3: Apply PCA for dimensionality reduction\n",
    "def apply_pca(features, n_components=100):\n",
    "    pca = PCA(n_components=n_components)\n",
    "    return pca.fit_transform(features)\n",
    "\n",
    "\n",
    "X_pca = apply_pca(X_hog, n_components=100)\n",
    "\n",
    "\n",
    "# Step 4: Normalize the features\n",
    "def normalize_features(features):\n",
    "    scaler = StandardScaler()\n",
    "    return scaler.fit_transform(features)\n",
    "\n",
    "\n",
    "X_normalized = normalize_features(X_pca)\n",
    "\n",
    "### Prepare labels ###\n",
    "# Encode labels to numerical values\n",
    "le = LabelEncoder()\n",
    "y_encoded = le.fit_transform(y)\n",
    "\n",
    "# One-hot encode the labels for softmax regression\n",
    "y_one_hot = np.eye(len(np.unique(y_encoded)))[y_encoded]\n",
    "\n",
    "### Train/test split ###\n",
    "# Split into training, validation, and test sets\n",
    "X_train_full, X_test, y_train_full, y_test = train_test_split(X_normalized, y_one_hot, test_size=0.2, random_state=42)\n",
    "X_train, X_val, y_train, y_val = train_test_split(X_train_full, y_train_full, test_size=0.2, random_state=42)\n",
    "\n",
    "y_test_labels = np.argmax(y_test, axis=1)  # True labels for test data"
   ],
   "outputs": [
    {
     "name": "stdout",
     "output_type": "stream",
     "text": [
      "Current system time: 2024-10-12 20:35:58.253350\n"
     ]
    },
    {
     "ename": "KeyboardInterrupt",
     "evalue": "",
     "output_type": "error",
     "traceback": [
      "\u001B[0;31m---------------------------------------------------------------------------\u001B[0m",
      "\u001B[0;31mKeyboardInterrupt\u001B[0m                         Traceback (most recent call last)",
      "Cell \u001B[0;32mIn[1], line 17\u001B[0m\n\u001B[1;32m     14\u001B[0m base_folder \u001B[38;5;241m=\u001B[39m \u001B[38;5;124mr\u001B[39m\u001B[38;5;124m\"\u001B[39m\u001B[38;5;124m./archive/dataset\u001B[39m\u001B[38;5;124m\"\u001B[39m\n\u001B[1;32m     16\u001B[0m \u001B[38;5;66;03m# Load images and labels\u001B[39;00m\n\u001B[0;32m---> 17\u001B[0m images, labels \u001B[38;5;241m=\u001B[39m \u001B[43mload_data\u001B[49m\u001B[43m(\u001B[49m\u001B[43mcsv_file\u001B[49m\u001B[43m,\u001B[49m\u001B[43m \u001B[49m\u001B[43mbase_folder\u001B[49m\u001B[43m)\u001B[49m\n\u001B[1;32m     18\u001B[0m \u001B[38;5;28mprint\u001B[39m(\u001B[38;5;28mlen\u001B[39m(images))\n\u001B[1;32m     19\u001B[0m \u001B[38;5;28mprint\u001B[39m(\u001B[38;5;28mlen\u001B[39m(labels))\n",
      "File \u001B[0;32m~/code/asom98/faceRecog/data_loading.py:43\u001B[0m, in \u001B[0;36mload_data\u001B[0;34m(csv_filename, base_folder, image_size)\u001B[0m\n\u001B[1;32m     41\u001B[0m \u001B[38;5;66;03m# Load and preprocess image\u001B[39;00m\n\u001B[1;32m     42\u001B[0m \u001B[38;5;28;01mtry\u001B[39;00m:\n\u001B[0;32m---> 43\u001B[0m     cropped_image \u001B[38;5;241m=\u001B[39m \u001B[43mImage\u001B[49m\u001B[38;5;241;43m.\u001B[39;49m\u001B[43mopen\u001B[49m\u001B[43m(\u001B[49m\u001B[43mimage_path\u001B[49m\u001B[43m)\u001B[49m\u001B[38;5;241;43m.\u001B[39;49m\u001B[43mconvert\u001B[49m\u001B[43m(\u001B[49m\u001B[38;5;124;43m'\u001B[39;49m\u001B[38;5;124;43mRGB\u001B[39;49m\u001B[38;5;124;43m'\u001B[39;49m\u001B[43m)\u001B[49m\u001B[38;5;241m.\u001B[39mresize(image_size)\n\u001B[1;32m     44\u001B[0m     normalized_image \u001B[38;5;241m=\u001B[39m np\u001B[38;5;241m.\u001B[39marray(cropped_image) \u001B[38;5;241m/\u001B[39m \u001B[38;5;241m255.0\u001B[39m  \u001B[38;5;66;03m# Normalize to [0, 1]\u001B[39;00m\n\u001B[1;32m     45\u001B[0m     images\u001B[38;5;241m.\u001B[39mappend(normalized_image)\n",
      "File \u001B[0;32m/usr/local/lib/python3.9/site-packages/PIL/Image.py:995\u001B[0m, in \u001B[0;36mImage.convert\u001B[0;34m(self, mode, matrix, dither, palette, colors)\u001B[0m\n\u001B[1;32m    992\u001B[0m \u001B[38;5;28;01mif\u001B[39;00m mode \u001B[38;5;129;01min\u001B[39;00m (\u001B[38;5;124m\"\u001B[39m\u001B[38;5;124mBGR;15\u001B[39m\u001B[38;5;124m\"\u001B[39m, \u001B[38;5;124m\"\u001B[39m\u001B[38;5;124mBGR;16\u001B[39m\u001B[38;5;124m\"\u001B[39m, \u001B[38;5;124m\"\u001B[39m\u001B[38;5;124mBGR;24\u001B[39m\u001B[38;5;124m\"\u001B[39m):\n\u001B[1;32m    993\u001B[0m     deprecate(mode, \u001B[38;5;241m12\u001B[39m)\n\u001B[0;32m--> 995\u001B[0m \u001B[38;5;28;43mself\u001B[39;49m\u001B[38;5;241;43m.\u001B[39;49m\u001B[43mload\u001B[49m\u001B[43m(\u001B[49m\u001B[43m)\u001B[49m\n\u001B[1;32m    997\u001B[0m has_transparency \u001B[38;5;241m=\u001B[39m \u001B[38;5;124m\"\u001B[39m\u001B[38;5;124mtransparency\u001B[39m\u001B[38;5;124m\"\u001B[39m \u001B[38;5;129;01min\u001B[39;00m \u001B[38;5;28mself\u001B[39m\u001B[38;5;241m.\u001B[39minfo\n\u001B[1;32m    998\u001B[0m \u001B[38;5;28;01mif\u001B[39;00m \u001B[38;5;129;01mnot\u001B[39;00m mode \u001B[38;5;129;01mand\u001B[39;00m \u001B[38;5;28mself\u001B[39m\u001B[38;5;241m.\u001B[39mmode \u001B[38;5;241m==\u001B[39m \u001B[38;5;124m\"\u001B[39m\u001B[38;5;124mP\u001B[39m\u001B[38;5;124m\"\u001B[39m:\n\u001B[1;32m    999\u001B[0m     \u001B[38;5;66;03m# determine default mode\u001B[39;00m\n",
      "File \u001B[0;32m/usr/local/lib/python3.9/site-packages/PIL/ImageFile.py:293\u001B[0m, in \u001B[0;36mImageFile.load\u001B[0;34m(self)\u001B[0m\n\u001B[1;32m    290\u001B[0m         \u001B[38;5;28;01mraise\u001B[39;00m \u001B[38;5;167;01mOSError\u001B[39;00m(msg)\n\u001B[1;32m    292\u001B[0m b \u001B[38;5;241m=\u001B[39m b \u001B[38;5;241m+\u001B[39m s\n\u001B[0;32m--> 293\u001B[0m n, err_code \u001B[38;5;241m=\u001B[39m \u001B[43mdecoder\u001B[49m\u001B[38;5;241;43m.\u001B[39;49m\u001B[43mdecode\u001B[49m\u001B[43m(\u001B[49m\u001B[43mb\u001B[49m\u001B[43m)\u001B[49m\n\u001B[1;32m    294\u001B[0m \u001B[38;5;28;01mif\u001B[39;00m n \u001B[38;5;241m<\u001B[39m \u001B[38;5;241m0\u001B[39m:\n\u001B[1;32m    295\u001B[0m     \u001B[38;5;28;01mbreak\u001B[39;00m\n",
      "\u001B[0;31mKeyboardInterrupt\u001B[0m: "
     ]
    }
   ],
   "execution_count": 1
  },
  {
   "cell_type": "code",
   "metadata": {
    "ExecuteTime": {
     "end_time": "2024-10-13T06:49:53.632867Z",
     "start_time": "2024-10-13T06:49:53.388551Z"
    }
   },
   "source": [
    "### K-Fold Cross-Validation ###\n",
    "def cross_validate_model(X, y, num_folds=5):\n",
    "    kf = KFold(n_splits=num_folds, shuffle=True, random_state=42)\n",
    "    fold_accuracies = []\n",
    "\n",
    "    for train_index, val_index in kf.split(X):\n",
    "        x_train, x_val = X[train_index], X[val_index]\n",
    "        y_train, y_val = y[train_index], y[val_index]\n",
    "\n",
    "        # Train the model\n",
    "        model = LogisticRegression(input_size=x_train.shape[1], num_classes=y_train.shape[1], learning_rate=0.1,\n",
    "                                   regularization=0.001)\n",
    "        model.train(x_train, y_train, epochs=1000)\n",
    "\n",
    "        # Validate the model\n",
    "        y_val_pred = model.predict(x_val)\n",
    "        val_accuracy = np.mean(np.argmax(y_val, axis=1) == y_val_pred)\n",
    "        fold_accuracies.append(val_accuracy)\n",
    "        print(f\"Validation Accuracy for fold: {val_accuracy}\")\n",
    "\n",
    "    avg_accuracy = np.mean(fold_accuracies)\n",
    "    print(f\"Average Cross-Validation Accuracy: {avg_accuracy}\")\n",
    "    return avg_accuracy\n",
    "\n",
    "\n",
    "# Perform cross-validation with 5 folds\n",
    "cross_validation_accuracy = cross_validate_model(X_normalized, y_one_hot, num_folds=5)\n",
    "\n",
    "### Final Model Training with the Best Hyperparameters ###\n",
    "# Use the best hyperparameters directly\n",
    "final_model = LogisticRegression(input_size=X_train_full.shape[1], num_classes=y_train_full.shape[1], learning_rate=0.1,\n",
    "                                 regularization=0.001)\n",
    "final_model.train(X_train_full, y_train_full, epochs=1000)\n",
    "\n",
    "# Test the final model\n",
    "y_test_pred = final_model.predict(X_test)\n",
    "final_accuracy = np.mean(np.argmax(y_test, axis=1) == y_test_pred)\n",
    "print(f\"Final Test Accuracy: {final_accuracy}\")"
   ],
   "outputs": [
    {
     "ename": "NameError",
     "evalue": "name 'X_normalized' is not defined",
     "output_type": "error",
     "traceback": [
      "\u001B[0;31m---------------------------------------------------------------------------\u001B[0m",
      "\u001B[0;31mNameError\u001B[0m                                 Traceback (most recent call last)",
      "Cell \u001B[0;32mIn[1], line 27\u001B[0m\n\u001B[1;32m     23\u001B[0m     \u001B[38;5;28;01mreturn\u001B[39;00m avg_accuracy\n\u001B[1;32m     26\u001B[0m \u001B[38;5;66;03m# Perform cross-validation with 5 folds\u001B[39;00m\n\u001B[0;32m---> 27\u001B[0m cross_validation_accuracy \u001B[38;5;241m=\u001B[39m cross_validate_model(\u001B[43mX_normalized\u001B[49m, y_one_hot, num_folds\u001B[38;5;241m=\u001B[39m\u001B[38;5;241m5\u001B[39m)\n\u001B[1;32m     29\u001B[0m \u001B[38;5;66;03m### Final Model Training with the Best Hyperparameters ###\u001B[39;00m\n\u001B[1;32m     30\u001B[0m \u001B[38;5;66;03m# Use the best hyperparameters directly\u001B[39;00m\n\u001B[1;32m     31\u001B[0m final_model \u001B[38;5;241m=\u001B[39m LogisticRegression(input_size\u001B[38;5;241m=\u001B[39mX_train_full\u001B[38;5;241m.\u001B[39mshape[\u001B[38;5;241m1\u001B[39m], num_classes\u001B[38;5;241m=\u001B[39my_train_full\u001B[38;5;241m.\u001B[39mshape[\u001B[38;5;241m1\u001B[39m], learning_rate\u001B[38;5;241m=\u001B[39m\u001B[38;5;241m0.1\u001B[39m,\n\u001B[1;32m     32\u001B[0m                                  regularization\u001B[38;5;241m=\u001B[39m\u001B[38;5;241m0.001\u001B[39m)\n",
      "\u001B[0;31mNameError\u001B[0m: name 'X_normalized' is not defined"
     ]
    }
   ],
   "execution_count": 1
  }
 ],
 "metadata": {
  "kernelspec": {
   "display_name": "base",
   "language": "python",
   "name": "python3"
  },
  "language_info": {
   "codemirror_mode": {
    "name": "ipython",
    "version": 3
   },
   "file_extension": ".py",
   "mimetype": "text/x-python",
   "name": "python",
   "nbconvert_exporter": "python",
   "pygments_lexer": "ipython3",
   "version": "3.12.4"
  }
 },
 "nbformat": 4,
 "nbformat_minor": 2
}
