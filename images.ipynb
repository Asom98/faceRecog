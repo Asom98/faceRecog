{
 "cells": [
  {
   "metadata": {},
   "cell_type": "code",
   "source": [
    "from image_util import resize_images\n",
    "\n",
    "# Correct paths to your dataset\n",
    "csv_file = r\"./archive/data.csv\"\n",
    "base_folder = r\"./archive/dataset\"\n",
    "target_folder = r\"./archive/resized\"\n",
    "\n",
    "# normalize images\n",
    "resize_images(csv_file, base_folder, target_folder)\n"
   ],
   "outputs": [],
   "execution_count": null
  },
  {
   "metadata": {},
   "cell_type": "code",
   "source": [
    "from image_util import grayscale_images\n",
    "\n",
    "# Correct paths to your dataset\n",
    "csv_file = r\"./archive/data.csv\"\n",
    "base_folder = r\"./archive/resized\"\n",
    "target_folder = r\"./archive/grayscale\"\n",
    "\n",
    "# normalize images\n",
    "grayscale_images(csv_file, base_folder, target_folder)"
   ],
   "outputs": [],
   "execution_count": null
  }
 ],
 "metadata": {
  "kernelspec": {
   "display_name": "base",
   "language": "python",
   "name": "python3"
  },
  "language_info": {
   "codemirror_mode": {
    "name": "ipython",
    "version": 3
   },
   "file_extension": ".py",
   "mimetype": "text/x-python",
   "name": "python",
   "nbconvert_exporter": "python",
   "pygments_lexer": "ipython3",
   "version": "3.12.4"
  }
 },
 "nbformat": 4,
 "nbformat_minor": 2
}
