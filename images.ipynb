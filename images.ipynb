{
 "cells": [
  {
   "metadata": {},
   "cell_type": "code",
   "source": [
    "from image_util import normalize_images\n",
    "\n",
    "# Correct paths to your dataset\n",
    "csv_file = r\"./archive/small.csv\"\n",
    "base_folder = r\"./archive/dataset\"\n",
    "target_folder = r\"./archive/normalized\"\n",
    "\n",
    "# Load images and labels\n",
    "images, labels = normalize_images(csv_file, base_folder, target_folder)\n",
    "print(len(images))\n",
    "print(len(labels))\n"
   ],
   "outputs": [],
   "execution_count": null
  }
 ],
 "metadata": {
  "kernelspec": {
   "display_name": "base",
   "language": "python",
   "name": "python3"
  },
  "language_info": {
   "codemirror_mode": {
    "name": "ipython",
    "version": 3
   },
   "file_extension": ".py",
   "mimetype": "text/x-python",
   "name": "python",
   "nbconvert_exporter": "python",
   "pygments_lexer": "ipython3",
   "version": "3.12.4"
  }
 },
 "nbformat": 4,
 "nbformat_minor": 2
}
