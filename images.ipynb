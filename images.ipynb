{
 "cells": [
  {
   "metadata": {},
   "cell_type": "raw",
   "source": [
    "from image_util import resize_and_save\n",
    "\n",
    "# Correct paths to your dataset\n",
    "csv_file = r\"./archive/data.csv\"\n",
    "base_folder = r\"./archive/dataset\"\n",
    "target_folder = r\"./archive/resized\"\n",
    "\n",
    "# resize images\n",
    "resize_and_save(csv_file, base_folder, target_folder)\n"
   ]
  },
  {
   "metadata": {},
   "cell_type": "raw",
   "source": [
    "from image_util import load_and_normalize, to_grayscale, to_histgram\n",
    "import datetime\n",
    "\n",
    "# Correct paths to your dataset\n",
    "csv_file = r\"./archive/data.csv\"\n",
    "base_folder = r\"./archive/resized\"\n",
    "\n",
    "start_time = datetime.datetime.now()\n",
    "print(f\"Start Time {start_time}\")\n",
    "\n",
    "# load and normalize images\n",
    "images, labels = load_and_normalize(csv_file, base_folder)\n",
    "normalize_time = datetime.datetime.now()\n",
    "print(f\"loading time: {normalize_time - start_time}\")\n",
    "\n",
    "# Step 1\n",
    "grayscale_images = to_grayscale(images)\n",
    "grayscale_time = datetime.datetime.now()\n",
    "print(f\"grayscale time: {grayscale_time - normalize_time}\")\n",
    "\n",
    "# Step 2\n",
    "histgram_images = to_histgram(grayscale_images)\n",
    "histgram_time = datetime.datetime.now()\n",
    "print(f\"histogram time: {histgram_time - grayscale_time}\")\n",
    "\n"
   ]
  }
 ],
 "metadata": {
  "kernelspec": {
   "display_name": "base",
   "language": "python",
   "name": "python3"
  },
  "language_info": {
   "codemirror_mode": {
    "name": "ipython",
    "version": 3
   },
   "file_extension": ".py",
   "mimetype": "text/x-python",
   "name": "python",
   "nbconvert_exporter": "python",
   "pygments_lexer": "ipython3",
   "version": "3.12.4"
  }
 },
 "nbformat": 4,
 "nbformat_minor": 2
}
